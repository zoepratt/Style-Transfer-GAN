{
 "cells": [
  {
   "cell_type": "code",
   "execution_count": 172,
   "metadata": {},
   "outputs": [],
   "source": [
    "import chess\n",
    "import pandas as pd  "
   ]
  },
  {
   "cell_type": "markdown",
   "metadata": {},
   "source": [
    "<font size=\"5\">**ROUND ONE**</font>"
   ]
  },
  {
   "cell_type": "markdown",
   "metadata": {},
   "source": [
    "**Anand v. Polgar**"
   ]
  },
  {
   "cell_type": "code",
   "execution_count": 122,
   "metadata": {},
   "outputs": [],
   "source": [
    "ap_game1 = []\n",
    "with open(\"tournament - polgar v anand/polgar_v_anand_game1.txt\", \"r\") as f:\n",
    "    for line in f:\n",
    "        ap_game1.append(str(line.strip()))"
   ]
  },
  {
   "cell_type": "code",
   "execution_count": 123,
   "metadata": {},
   "outputs": [],
   "source": [
    "ap_game2 = []\n",
    "with open(\"tournament - polgar v anand/polgar_v_anand_game2.txt\", \"r\") as f:\n",
    "    for line in f:\n",
    "        ap_game2.append(str(line.strip()))"
   ]
  },
  {
   "cell_type": "code",
   "execution_count": 124,
   "metadata": {},
   "outputs": [],
   "source": [
    "ap_game3 = []\n",
    "with open(\"tournament - polgar v anand/polgar_v_anand_game3.txt\", \"r\") as f:\n",
    "    for line in f:\n",
    "        ap_game3.append(str(line.strip()))"
   ]
  },
  {
   "cell_type": "code",
   "execution_count": 125,
   "metadata": {},
   "outputs": [],
   "source": [
    "ap_game4 = []\n",
    "with open(\"tournament - polgar v anand/polgar_v_anand_game4.txt\", \"r\") as f:\n",
    "    for line in f:\n",
    "        ap_game4.append(str(line.strip()))"
   ]
  },
  {
   "cell_type": "code",
   "execution_count": 126,
   "metadata": {},
   "outputs": [],
   "source": [
    "ap_game5 = []\n",
    "with open(\"tournament - polgar v anand/polgar_v_anand_game5.txt\", \"r\") as f:\n",
    "    for line in f:\n",
    "        ap_game5.append(str(line.strip()))"
   ]
  },
  {
   "cell_type": "markdown",
   "metadata": {},
   "source": [
    "**Game 1:** Anand\n",
    "\n",
    "**Game 2:** Polgar\n",
    "\n",
    "**Game 3:** Anand\n",
    "\n",
    "**Game 4:** Anand\n",
    "\n",
    "**Game 5**: Anand"
   ]
  },
  {
   "cell_type": "markdown",
   "metadata": {},
   "source": [
    "**Caruana v. Kasparov**"
   ]
  },
  {
   "cell_type": "code",
   "execution_count": 127,
   "metadata": {},
   "outputs": [],
   "source": [
    "ck_game1 = []\n",
    "with open(\"tournament - caruana v kasparov/caruana_v_kasparov_game1.txt\", \"r\") as f:\n",
    "    for line in f:\n",
    "        ck_game1.append(str(line.strip()))"
   ]
  },
  {
   "cell_type": "code",
   "execution_count": 128,
   "metadata": {},
   "outputs": [],
   "source": [
    "ck_game2 = []\n",
    "with open(\"tournament - caruana v kasparov/caruana_v_kasparov_game2.txt\", \"r\") as f:\n",
    "    for line in f:\n",
    "        ck_game2.append(str(line.strip()))"
   ]
  },
  {
   "cell_type": "code",
   "execution_count": 129,
   "metadata": {},
   "outputs": [],
   "source": [
    "ck_game3 = []\n",
    "with open(\"tournament - caruana v kasparov/caruana_v_kasparov_game3.txt\", \"r\") as f:\n",
    "    for line in f:\n",
    "        ck_game3.append(str(line.strip()))"
   ]
  },
  {
   "cell_type": "code",
   "execution_count": 130,
   "metadata": {},
   "outputs": [],
   "source": [
    "ck_game4 = []\n",
    "with open(\"tournament - caruana v kasparov/caruana_v_kasparov_game4.txt\", \"r\") as f:\n",
    "    for line in f:\n",
    "        ck_game4.append(str(line.strip()))"
   ]
  },
  {
   "cell_type": "code",
   "execution_count": 131,
   "metadata": {},
   "outputs": [],
   "source": [
    "ck_game5 = []\n",
    "with open(\"tournament - caruana v kasparov/caruana_v_kasparov_game5.txt\", \"r\") as f:\n",
    "    for line in f:\n",
    "        ck_game5.append(str(line.strip()))"
   ]
  },
  {
   "cell_type": "markdown",
   "metadata": {},
   "source": [
    "**Game 1:** Caruana\n",
    "\n",
    "**Game 2:** Kasparov\n",
    "\n",
    "**Game 3:** Kasparov\n",
    "\n",
    "**Game 4:** Caruana\n",
    "\n",
    "**Game 5:** Kasparov"
   ]
  },
  {
   "cell_type": "markdown",
   "metadata": {},
   "source": [
    "**Nakamura v. Tal**"
   ]
  },
  {
   "cell_type": "code",
   "execution_count": 132,
   "metadata": {},
   "outputs": [],
   "source": [
    "nt_game1 = []\n",
    "with open(\"tournament - nakamura v tal/nakamura_v_tal_game1.txt\", \"r\") as f:\n",
    "    for line in f:\n",
    "        nt_game1.append(str(line.strip()))"
   ]
  },
  {
   "cell_type": "code",
   "execution_count": 135,
   "metadata": {},
   "outputs": [],
   "source": [
    "nt_game2 = []\n",
    "with open(\"tournament - nakamura v tal/nakamura_v_tal_game2.txt\", \"r\") as f:\n",
    "    for line in f:\n",
    "        nt_game2.append(str(line.strip()))"
   ]
  },
  {
   "cell_type": "code",
   "execution_count": 136,
   "metadata": {},
   "outputs": [],
   "source": [
    "nt_game3 = []\n",
    "with open(\"tournament - nakamura v tal/nakamura_v_tal_game3.txt\", \"r\") as f:\n",
    "    for line in f:\n",
    "        nt_game3.append(str(line.strip()))"
   ]
  },
  {
   "cell_type": "code",
   "execution_count": 137,
   "metadata": {},
   "outputs": [],
   "source": [
    "nt_game4 = []\n",
    "with open(\"tournament - nakamura v tal/nakamura_v_tal_game4.txt\", \"r\") as f:\n",
    "    for line in f:\n",
    "        nt_game4.append(str(line.strip()))"
   ]
  },
  {
   "cell_type": "code",
   "execution_count": 138,
   "metadata": {},
   "outputs": [],
   "source": [
    "nt_game5 = []\n",
    "with open(\"tournament - nakamura v tal/nakamura_v_tal_game5.txt\", \"r\") as f:\n",
    "    for line in f:\n",
    "        nt_game5.append(str(line.strip()))"
   ]
  },
  {
   "cell_type": "markdown",
   "metadata": {},
   "source": [
    "**Game 1:** Tal\n",
    "\n",
    "**Game 2:** Nakamura\n",
    "\n",
    "**Game 3:** Nakamura\n",
    "\n",
    "**Game 4:** Nakamura\n",
    "\n",
    "**Game 5:** Tal"
   ]
  },
  {
   "cell_type": "markdown",
   "metadata": {},
   "source": [
    "**Alekhine v. Carlsen**"
   ]
  },
  {
   "cell_type": "code",
   "execution_count": 139,
   "metadata": {},
   "outputs": [],
   "source": [
    "ac_game1 = []\n",
    "with open(\"tournament - alekhine v carlsen/alekhine_v_carlsen_game1.txt\", \"r\") as f:\n",
    "    for line in f:\n",
    "        ac_game1.append(str(line.strip()))"
   ]
  },
  {
   "cell_type": "code",
   "execution_count": 140,
   "metadata": {},
   "outputs": [],
   "source": [
    "ac_game2 = []\n",
    "with open(\"tournament - alekhine v carlsen/alekhine_v_carlsen_game2.txt\", \"r\") as f:\n",
    "    for line in f:\n",
    "        ac_game2.append(str(line.strip()))"
   ]
  },
  {
   "cell_type": "code",
   "execution_count": 141,
   "metadata": {},
   "outputs": [],
   "source": [
    "ac_game3 = []\n",
    "with open(\"tournament - alekhine v carlsen/alekhine_v_carlsen_game3.txt\", \"r\") as f:\n",
    "    for line in f:\n",
    "        ac_game3.append(str(line.strip()))"
   ]
  },
  {
   "cell_type": "code",
   "execution_count": 142,
   "metadata": {},
   "outputs": [],
   "source": [
    "ac_game4 = []\n",
    "with open(\"tournament - alekhine v carlsen/alekhine_v_carlsen_game4.txt\", \"r\") as f:\n",
    "    for line in f:\n",
    "        ac_game4.append(str(line.strip()))"
   ]
  },
  {
   "cell_type": "code",
   "execution_count": 144,
   "metadata": {},
   "outputs": [],
   "source": [
    "ac_game5 = []\n",
    "with open(\"tournament - alekhine v carlsen/alekhine_v_carlsen_game5.txt\", \"r\") as f:\n",
    "    for line in f:\n",
    "        ac_game5.append(str(line.strip()))"
   ]
  },
  {
   "cell_type": "markdown",
   "metadata": {},
   "source": [
    "**Game 1:** Alekhine\n",
    "\n",
    "**Game 2:** Carlsen\n",
    "\n",
    "**Game 3:** Carlsen\n",
    "\n",
    "**Game 4:** Alekhine\n",
    "\n",
    "**Game 5:** Alekhine"
   ]
  },
  {
   "cell_type": "markdown",
   "metadata": {},
   "source": [
    "<font size=\"5\">**ROUND TWO**</font>"
   ]
  },
  {
   "cell_type": "markdown",
   "metadata": {},
   "source": [
    "**Kasparov v. Nakamura**"
   ]
  },
  {
   "cell_type": "code",
   "execution_count": 145,
   "metadata": {},
   "outputs": [],
   "source": [
    "kn_game1 = []\n",
    "with open(\"tournament2 - kasparov v nakamura/kasparov_v_nakamura_game1.txt\", \"r\") as f:\n",
    "    for line in f:\n",
    "        kn_game1.append(str(line.strip()))"
   ]
  },
  {
   "cell_type": "code",
   "execution_count": 146,
   "metadata": {},
   "outputs": [],
   "source": [
    "kn_game2 = []\n",
    "with open(\"tournament2 - kasparov v nakamura/kasparov_v_nakamura_game2.txt\", \"r\") as f:\n",
    "    for line in f:\n",
    "        kn_game2.append(str(line.strip()))"
   ]
  },
  {
   "cell_type": "code",
   "execution_count": 147,
   "metadata": {},
   "outputs": [],
   "source": [
    "kn_game3 = []\n",
    "with open(\"tournament2 - kasparov v nakamura/kasparov_v_nakamura_game3.txt\", \"r\") as f:\n",
    "    for line in f:\n",
    "        kn_game3.append(str(line.strip()))"
   ]
  },
  {
   "cell_type": "code",
   "execution_count": 148,
   "metadata": {},
   "outputs": [],
   "source": [
    "kn_game4 = []\n",
    "with open(\"tournament2 - kasparov v nakamura/kasparov_v_nakamura_game4.txt\", \"r\") as f:\n",
    "    for line in f:\n",
    "        kn_game4.append(str(line.strip()))"
   ]
  },
  {
   "cell_type": "code",
   "execution_count": 149,
   "metadata": {},
   "outputs": [],
   "source": [
    "kn_game5 = []\n",
    "with open(\"tournament2 - kasparov v nakamura/kasparov_v_nakamura_game5.txt\", \"r\") as f:\n",
    "    for line in f:\n",
    "        kn_game5.append(str(line.strip()))"
   ]
  },
  {
   "cell_type": "markdown",
   "metadata": {},
   "source": [
    "**Game 1:** Nakamura\n",
    "\n",
    "**Game 2:** Kasparov\n",
    "\n",
    "**Game 3:** Nakamura\n",
    "\n",
    "**Game 4:** Nakamura\n",
    "\n",
    "**Game 5:** Kasparov"
   ]
  },
  {
   "cell_type": "markdown",
   "metadata": {},
   "source": [
    "**Anand v. Alekhine**"
   ]
  },
  {
   "cell_type": "code",
   "execution_count": 151,
   "metadata": {},
   "outputs": [],
   "source": [
    "aa_game1 = []\n",
    "with open(\"tournament2 - anand v alekhine/anand_v_alekhine_game1.txt\", \"r\") as f:\n",
    "    for line in f:\n",
    "        aa_game1.append(str(line.strip()))"
   ]
  },
  {
   "cell_type": "code",
   "execution_count": 152,
   "metadata": {},
   "outputs": [],
   "source": [
    "aa_game2 = []\n",
    "with open(\"tournament2 - anand v alekhine/anand_v_alekhine_game2.txt\", \"r\") as f:\n",
    "    for line in f:\n",
    "        aa_game2.append(str(line.strip()))"
   ]
  },
  {
   "cell_type": "code",
   "execution_count": 153,
   "metadata": {},
   "outputs": [],
   "source": [
    "aa_game3 = []\n",
    "with open(\"tournament2 - anand v alekhine/anand_v_alekhine_game3.txt\", \"r\") as f:\n",
    "    for line in f:\n",
    "        aa_game3.append(str(line.strip()))"
   ]
  },
  {
   "cell_type": "code",
   "execution_count": 154,
   "metadata": {},
   "outputs": [],
   "source": [
    "aa_game4 = []\n",
    "with open(\"tournament2 - anand v alekhine/anand_v_alekhine_game4.txt\", \"r\") as f:\n",
    "    for line in f:\n",
    "        aa_game4.append(str(line.strip()))"
   ]
  },
  {
   "cell_type": "code",
   "execution_count": 155,
   "metadata": {},
   "outputs": [],
   "source": [
    "aa_game5 = []\n",
    "with open(\"tournament2 - anand v alekhine/anand_v_alekhine_game5.txt\", \"r\") as f:\n",
    "    for line in f:\n",
    "        aa_game5.append(str(line.strip()))"
   ]
  },
  {
   "cell_type": "markdown",
   "metadata": {},
   "source": [
    "**Game 1:** Alekhine\n",
    "\n",
    "**Game 2:** Alekhine\n",
    "\n",
    "**Game 3:** Anand\n",
    "\n",
    "**Game 4:** Alekhine\n",
    "\n",
    "**Game 5:** Anand"
   ]
  },
  {
   "cell_type": "markdown",
   "metadata": {},
   "source": [
    "<font size=\"5\">**ROUND THREE**</font>"
   ]
  },
  {
   "cell_type": "markdown",
   "metadata": {},
   "source": [
    "**Alekhine v. Nakamura**"
   ]
  },
  {
   "cell_type": "code",
   "execution_count": 156,
   "metadata": {},
   "outputs": [],
   "source": [
    "an_game1 = []\n",
    "with open(\"tournament3 - alekhine v nakamura/alekhine_v_nakamura_game1.txt\", \"r\") as f:\n",
    "    for line in f:\n",
    "        an_game1.append(str(line.strip()))"
   ]
  },
  {
   "cell_type": "code",
   "execution_count": 157,
   "metadata": {},
   "outputs": [],
   "source": [
    "an_game2 = []\n",
    "with open(\"tournament3 - alekhine v nakamura/alekhine_v_nakamura_game2.txt\", \"r\") as f:\n",
    "    for line in f:\n",
    "        an_game2.append(str(line.strip()))"
   ]
  },
  {
   "cell_type": "code",
   "execution_count": 158,
   "metadata": {},
   "outputs": [],
   "source": [
    "an_game3 = []\n",
    "with open(\"tournament3 - alekhine v nakamura/alekhine_v_nakamura_game3.txt\", \"r\") as f:\n",
    "    for line in f:\n",
    "        an_game3.append(str(line.strip()))"
   ]
  },
  {
   "cell_type": "code",
   "execution_count": 159,
   "metadata": {},
   "outputs": [],
   "source": [
    "an_game4 = []\n",
    "with open(\"tournament3 - alekhine v nakamura/alekhine_v_nakamura_game4.txt\", \"r\") as f:\n",
    "    for line in f:\n",
    "        an_game4.append(str(line.strip()))"
   ]
  },
  {
   "cell_type": "code",
   "execution_count": 160,
   "metadata": {},
   "outputs": [],
   "source": [
    "an_game5 = []\n",
    "with open(\"tournament3 - alekhine v nakamura/alekhine_v_nakamura_game5.txt\", \"r\") as f:\n",
    "    for line in f:\n",
    "        an_game5.append(str(line.strip()))"
   ]
  },
  {
   "cell_type": "markdown",
   "metadata": {},
   "source": [
    "**Game 1:** Nakamura\n",
    "\n",
    "**Game 2:** Nakamura\n",
    "\n",
    "**Game 3:** Nakamura\n",
    "\n",
    "**Game 4:** Nakamura\n",
    "\n",
    "**Game 5:** Alekhine"
   ]
  },
  {
   "cell_type": "code",
   "execution_count": 240,
   "metadata": {},
   "outputs": [
    {
     "data": {
      "image/svg+xml": [
       "<svg xmlns=\"http://www.w3.org/2000/svg\" xmlns:xlink=\"http://www.w3.org/1999/xlink\" version=\"1.2\" baseProfile=\"tiny\" viewBox=\"0 0 390 390\" width=\"390\" height=\"390\"><defs><g id=\"white-pawn\" class=\"white pawn\"><path d=\"M22.5 9c-2.21 0-4 1.79-4 4 0 .89.29 1.71.78 2.38C17.33 16.5 16 18.59 16 21c0 2.03.94 3.84 2.41 5.03-3 1.06-7.41 5.55-7.41 13.47h23c0-7.92-4.41-12.41-7.41-13.47 1.47-1.19 2.41-3 2.41-5.03 0-2.41-1.33-4.5-3.28-5.62.49-.67.78-1.49.78-2.38 0-2.21-1.79-4-4-4z\" fill=\"#fff\" stroke=\"#000\" stroke-width=\"1.5\" stroke-linecap=\"round\" /></g><g id=\"white-knight\" class=\"white knight\" fill=\"none\" fill-rule=\"evenodd\" stroke=\"#000\" stroke-width=\"1.5\" stroke-linecap=\"round\" stroke-linejoin=\"round\"><path d=\"M 22,10 C 32.5,11 38.5,18 38,39 L 15,39 C 15,30 25,32.5 23,18\" style=\"fill:#ffffff; stroke:#000000;\" /><path d=\"M 24,18 C 24.38,20.91 18.45,25.37 16,27 C 13,29 13.18,31.34 11,31 C 9.958,30.06 12.41,27.96 11,28 C 10,28 11.19,29.23 10,30 C 9,30 5.997,31 6,26 C 6,24 12,14 12,14 C 12,14 13.89,12.1 14,10.5 C 13.27,9.506 13.5,8.5 13.5,7.5 C 14.5,6.5 16.5,10 16.5,10 L 18.5,10 C 18.5,10 19.28,8.008 21,7 C 22,7 22,10 22,10\" style=\"fill:#ffffff; stroke:#000000;\" /><path d=\"M 9.5 25.5 A 0.5 0.5 0 1 1 8.5,25.5 A 0.5 0.5 0 1 1 9.5 25.5 z\" style=\"fill:#000000; stroke:#000000;\" /><path d=\"M 15 15.5 A 0.5 1.5 0 1 1 14,15.5 A 0.5 1.5 0 1 1 15 15.5 z\" transform=\"matrix(0.866,0.5,-0.5,0.866,9.693,-5.173)\" style=\"fill:#000000; stroke:#000000;\" /></g><g id=\"white-bishop\" class=\"white bishop\" fill=\"none\" fill-rule=\"evenodd\" stroke=\"#000\" stroke-width=\"1.5\" stroke-linecap=\"round\" stroke-linejoin=\"round\"><g fill=\"#fff\" stroke-linecap=\"butt\"><path d=\"M9 36c3.39-.97 10.11.43 13.5-2 3.39 2.43 10.11 1.03 13.5 2 0 0 1.65.54 3 2-.68.97-1.65.99-3 .5-3.39-.97-10.11.46-13.5-1-3.39 1.46-10.11.03-13.5 1-1.354.49-2.323.47-3-.5 1.354-1.94 3-2 3-2zM15 32c2.5 2.5 12.5 2.5 15 0 .5-1.5 0-2 0-2 0-2.5-2.5-4-2.5-4 5.5-1.5 6-11.5-5-15.5-11 4-10.5 14-5 15.5 0 0-2.5 1.5-2.5 4 0 0-.5.5 0 2zM25 8a2.5 2.5 0 1 1-5 0 2.5 2.5 0 1 1 5 0z\" /></g><path d=\"M17.5 26h10M15 30h15m-7.5-14.5v5M20 18h5\" stroke-linejoin=\"miter\" /></g><g id=\"white-rook\" class=\"white rook\" fill=\"#fff\" fill-rule=\"evenodd\" stroke=\"#000\" stroke-width=\"1.5\" stroke-linecap=\"round\" stroke-linejoin=\"round\"><path d=\"M9 39h27v-3H9v3zM12 36v-4h21v4H12zM11 14V9h4v2h5V9h5v2h5V9h4v5\" stroke-linecap=\"butt\" /><path d=\"M34 14l-3 3H14l-3-3\" /><path d=\"M31 17v12.5H14V17\" stroke-linecap=\"butt\" stroke-linejoin=\"miter\" /><path d=\"M31 29.5l1.5 2.5h-20l1.5-2.5\" /><path d=\"M11 14h23\" fill=\"none\" stroke-linejoin=\"miter\" /></g><g id=\"white-queen\" class=\"white queen\" fill=\"#fff\" fill-rule=\"evenodd\" stroke=\"#000\" stroke-width=\"1.5\" stroke-linecap=\"round\" stroke-linejoin=\"round\"><path d=\"M8 12a2 2 0 1 1-4 0 2 2 0 1 1 4 0zM24.5 7.5a2 2 0 1 1-4 0 2 2 0 1 1 4 0zM41 12a2 2 0 1 1-4 0 2 2 0 1 1 4 0zM16 8.5a2 2 0 1 1-4 0 2 2 0 1 1 4 0zM33 9a2 2 0 1 1-4 0 2 2 0 1 1 4 0z\" /><path d=\"M9 26c8.5-1.5 21-1.5 27 0l2-12-7 11V11l-5.5 13.5-3-15-3 15-5.5-14V25L7 14l2 12zM9 26c0 2 1.5 2 2.5 4 1 1.5 1 1 .5 3.5-1.5 1-1.5 2.5-1.5 2.5-1.5 1.5.5 2.5.5 2.5 6.5 1 16.5 1 23 0 0 0 1.5-1 0-2.5 0 0 .5-1.5-1-2.5-.5-2.5-.5-2 .5-3.5 1-2 2.5-2 2.5-4-8.5-1.5-18.5-1.5-27 0z\" stroke-linecap=\"butt\" /><path d=\"M11.5 30c3.5-1 18.5-1 22 0M12 33.5c6-1 15-1 21 0\" fill=\"none\" /></g><g id=\"black-pawn\" class=\"black pawn\"><path d=\"M22.5 9c-2.21 0-4 1.79-4 4 0 .89.29 1.71.78 2.38C17.33 16.5 16 18.59 16 21c0 2.03.94 3.84 2.41 5.03-3 1.06-7.41 5.55-7.41 13.47h23c0-7.92-4.41-12.41-7.41-13.47 1.47-1.19 2.41-3 2.41-5.03 0-2.41-1.33-4.5-3.28-5.62.49-.67.78-1.49.78-2.38 0-2.21-1.79-4-4-4z\" stroke=\"#000\" stroke-width=\"1.5\" stroke-linecap=\"round\" /></g><g id=\"black-knight\" class=\"black knight\" fill=\"none\" fill-rule=\"evenodd\" stroke=\"#000\" stroke-width=\"1.5\" stroke-linecap=\"round\" stroke-linejoin=\"round\"><path d=\"M 22,10 C 32.5,11 38.5,18 38,39 L 15,39 C 15,30 25,32.5 23,18\" style=\"fill:#000000; stroke:#000000;\" /><path d=\"M 24,18 C 24.38,20.91 18.45,25.37 16,27 C 13,29 13.18,31.34 11,31 C 9.958,30.06 12.41,27.96 11,28 C 10,28 11.19,29.23 10,30 C 9,30 5.997,31 6,26 C 6,24 12,14 12,14 C 12,14 13.89,12.1 14,10.5 C 13.27,9.506 13.5,8.5 13.5,7.5 C 14.5,6.5 16.5,10 16.5,10 L 18.5,10 C 18.5,10 19.28,8.008 21,7 C 22,7 22,10 22,10\" style=\"fill:#000000; stroke:#000000;\" /><path d=\"M 9.5 25.5 A 0.5 0.5 0 1 1 8.5,25.5 A 0.5 0.5 0 1 1 9.5 25.5 z\" style=\"fill:#ececec; stroke:#ececec;\" /><path d=\"M 15 15.5 A 0.5 1.5 0 1 1 14,15.5 A 0.5 1.5 0 1 1 15 15.5 z\" transform=\"matrix(0.866,0.5,-0.5,0.866,9.693,-5.173)\" style=\"fill:#ececec; stroke:#ececec;\" /><path d=\"M 24.55,10.4 L 24.1,11.85 L 24.6,12 C 27.75,13 30.25,14.49 32.5,18.75 C 34.75,23.01 35.75,29.06 35.25,39 L 35.2,39.5 L 37.45,39.5 L 37.5,39 C 38,28.94 36.62,22.15 34.25,17.66 C 31.88,13.17 28.46,11.02 25.06,10.5 L 24.55,10.4 z \" style=\"fill:#ececec; stroke:none;\" /></g><g id=\"black-bishop\" class=\"black bishop\" fill=\"none\" fill-rule=\"evenodd\" stroke=\"#000\" stroke-width=\"1.5\" stroke-linecap=\"round\" stroke-linejoin=\"round\"><path d=\"M9 36c3.39-.97 10.11.43 13.5-2 3.39 2.43 10.11 1.03 13.5 2 0 0 1.65.54 3 2-.68.97-1.65.99-3 .5-3.39-.97-10.11.46-13.5-1-3.39 1.46-10.11.03-13.5 1-1.354.49-2.323.47-3-.5 1.354-1.94 3-2 3-2zm6-4c2.5 2.5 12.5 2.5 15 0 .5-1.5 0-2 0-2 0-2.5-2.5-4-2.5-4 5.5-1.5 6-11.5-5-15.5-11 4-10.5 14-5 15.5 0 0-2.5 1.5-2.5 4 0 0-.5.5 0 2zM25 8a2.5 2.5 0 1 1-5 0 2.5 2.5 0 1 1 5 0z\" fill=\"#000\" stroke-linecap=\"butt\" /><path d=\"M17.5 26h10M15 30h15m-7.5-14.5v5M20 18h5\" stroke=\"#fff\" stroke-linejoin=\"miter\" /></g><g id=\"black-rook\" class=\"black rook\" fill=\"#000\" fill-rule=\"evenodd\" stroke=\"#000\" stroke-width=\"1.5\" stroke-linecap=\"round\" stroke-linejoin=\"round\"><path d=\"M9 39h27v-3H9v3zM12.5 32l1.5-2.5h17l1.5 2.5h-20zM12 36v-4h21v4H12z\" stroke-linecap=\"butt\" /><path d=\"M14 29.5v-13h17v13H14z\" stroke-linecap=\"butt\" stroke-linejoin=\"miter\" /><path d=\"M14 16.5L11 14h23l-3 2.5H14zM11 14V9h4v2h5V9h5v2h5V9h4v5H11z\" stroke-linecap=\"butt\" /><path d=\"M12 35.5h21M13 31.5h19M14 29.5h17M14 16.5h17M11 14h23\" fill=\"none\" stroke=\"#fff\" stroke-width=\"1\" stroke-linejoin=\"miter\" /></g><g id=\"black-king\" class=\"black king\" fill=\"none\" fill-rule=\"evenodd\" stroke=\"#000\" stroke-width=\"1.5\" stroke-linecap=\"round\" stroke-linejoin=\"round\"><path d=\"M22.5 11.63V6\" stroke-linejoin=\"miter\" /><path d=\"M22.5 25s4.5-7.5 3-10.5c0 0-1-2.5-3-2.5s-3 2.5-3 2.5c-1.5 3 3 10.5 3 10.5\" fill=\"#000\" stroke-linecap=\"butt\" stroke-linejoin=\"miter\" /><path d=\"M11.5 37c5.5 3.5 15.5 3.5 21 0v-7s9-4.5 6-10.5c-4-6.5-13.5-3.5-16 4V27v-3.5c-3.5-7.5-13-10.5-16-4-3 6 5 10 5 10V37z\" fill=\"#000\" /><path d=\"M20 8h5\" stroke-linejoin=\"miter\" /><path d=\"M32 29.5s8.5-4 6.03-9.65C34.15 14 25 18 22.5 24.5l.01 2.1-.01-2.1C20 18 9.906 14 6.997 19.85c-2.497 5.65 4.853 9 4.853 9M11.5 30c5.5-3 15.5-3 21 0m-21 3.5c5.5-3 15.5-3 21 0m-21 3.5c5.5-3 15.5-3 21 0\" stroke=\"#fff\" /></g></defs><rect x=\"0\" y=\"0\" width=\"390\" height=\"390\" fill=\"#212121\" /><g transform=\"translate(20, 0) scale(0.75, 0.75)\" fill=\"#e5e5e5\" stroke=\"#e5e5e5\"><path d=\"M23.328 10.016q-1.742 0-2.414.398-.672.398-.672 1.36 0 .765.5 1.218.508.445 1.375.445 1.196 0 1.914-.843.727-.852.727-2.258v-.32zm2.867-.594v4.992h-1.437v-1.328q-.492.797-1.227 1.18-.734.375-1.797.375-1.343 0-2.14-.75-.79-.758-.79-2.024 0-1.476.985-2.226.992-.75 2.953-.75h2.016V8.75q0-.992-.656-1.531-.649-.547-1.829-.547-.75 0-1.46.18-.711.18-1.368.539V6.062q.79-.304 1.532-.453.742-.156 1.445-.156 1.898 0 2.836.984.937.985.937 2.985z\" /></g><g transform=\"translate(20, 375) scale(0.75, 0.75)\" fill=\"#e5e5e5\" stroke=\"#e5e5e5\"><path d=\"M23.328 10.016q-1.742 0-2.414.398-.672.398-.672 1.36 0 .765.5 1.218.508.445 1.375.445 1.196 0 1.914-.843.727-.852.727-2.258v-.32zm2.867-.594v4.992h-1.437v-1.328q-.492.797-1.227 1.18-.734.375-1.797.375-1.343 0-2.14-.75-.79-.758-.79-2.024 0-1.476.985-2.226.992-.75 2.953-.75h2.016V8.75q0-.992-.656-1.531-.649-.547-1.829-.547-.75 0-1.46.18-.711.18-1.368.539V6.062q.79-.304 1.532-.453.742-.156 1.445-.156 1.898 0 2.836.984.937.985.937 2.985z\" /></g><g transform=\"translate(65, 0) scale(0.75, 0.75)\" fill=\"#e5e5e5\" stroke=\"#e5e5e5\"><path d=\"M24.922 10.047q0-1.586-.656-2.485-.649-.906-1.79-.906-1.14 0-1.796.906-.649.899-.649 2.485 0 1.586.649 2.492.656.898 1.797.898 1.14 0 1.789-.898.656-.906.656-2.492zm-4.89-3.055q.452-.781 1.14-1.156.695-.383 1.656-.383 1.594 0 2.586 1.266 1 1.265 1 3.328 0 2.062-1 3.328-.992 1.266-2.586 1.266-.96 0-1.656-.375-.688-.383-1.14-1.164v1.312h-1.446V2.258h1.445z\" /></g><g transform=\"translate(65, 375) scale(0.75, 0.75)\" fill=\"#e5e5e5\" stroke=\"#e5e5e5\"><path d=\"M24.922 10.047q0-1.586-.656-2.485-.649-.906-1.79-.906-1.14 0-1.796.906-.649.899-.649 2.485 0 1.586.649 2.492.656.898 1.797.898 1.14 0 1.789-.898.656-.906.656-2.492zm-4.89-3.055q.452-.781 1.14-1.156.695-.383 1.656-.383 1.594 0 2.586 1.266 1 1.265 1 3.328 0 2.062-1 3.328-.992 1.266-2.586 1.266-.96 0-1.656-.375-.688-.383-1.14-1.164v1.312h-1.446V2.258h1.445z\" /></g><g transform=\"translate(110, 0) scale(0.75, 0.75)\" fill=\"#e5e5e5\" stroke=\"#e5e5e5\"><path d=\"M25.96 6v1.344q-.608-.336-1.226-.5-.609-.172-1.234-.172-1.398 0-2.172.89-.773.883-.773 2.485 0 1.601.773 2.492.774.883 2.172.883.625 0 1.234-.164.618-.172 1.227-.508v1.328q-.602.281-1.25.422-.64.14-1.367.14-1.977 0-3.14-1.242-1.165-1.242-1.165-3.351 0-2.14 1.172-3.367 1.18-1.227 3.227-1.227.664 0 1.296.14.633.134 1.227.407z\" /></g><g transform=\"translate(110, 375) scale(0.75, 0.75)\" fill=\"#e5e5e5\" stroke=\"#e5e5e5\"><path d=\"M25.96 6v1.344q-.608-.336-1.226-.5-.609-.172-1.234-.172-1.398 0-2.172.89-.773.883-.773 2.485 0 1.601.773 2.492.774.883 2.172.883.625 0 1.234-.164.618-.172 1.227-.508v1.328q-.602.281-1.25.422-.64.14-1.367.14-1.977 0-3.14-1.242-1.165-1.242-1.165-3.351 0-2.14 1.172-3.367 1.18-1.227 3.227-1.227.664 0 1.296.14.633.134 1.227.407z\" /></g><g transform=\"translate(155, 0) scale(0.75, 0.75)\" fill=\"#e5e5e5\" stroke=\"#e5e5e5\"><path d=\"M24.973 6.992V2.258h1.437v12.156h-1.437v-1.312q-.453.78-1.149 1.164-.687.375-1.656.375-1.586 0-2.586-1.266-.992-1.266-.992-3.328 0-2.063.992-3.328 1-1.266 2.586-1.266.969 0 1.656.383.696.375 1.149 1.156zm-4.899 3.055q0 1.586.649 2.492.656.898 1.797.898 1.14 0 1.796-.898.657-.906.657-2.492 0-1.586-.657-2.485-.656-.906-1.796-.906-1.141 0-1.797.906-.649.899-.649 2.485z\" /></g><g transform=\"translate(155, 375) scale(0.75, 0.75)\" fill=\"#e5e5e5\" stroke=\"#e5e5e5\"><path d=\"M24.973 6.992V2.258h1.437v12.156h-1.437v-1.312q-.453.78-1.149 1.164-.687.375-1.656.375-1.586 0-2.586-1.266-.992-1.266-.992-3.328 0-2.063.992-3.328 1-1.266 2.586-1.266.969 0 1.656.383.696.375 1.149 1.156zm-4.899 3.055q0 1.586.649 2.492.656.898 1.797.898 1.14 0 1.796-.898.657-.906.657-2.492 0-1.586-.657-2.485-.656-.906-1.796-.906-1.141 0-1.797.906-.649.899-.649 2.485z\" /></g><g transform=\"translate(200, 0) scale(0.75, 0.75)\" fill=\"#e5e5e5\" stroke=\"#e5e5e5\"><path d=\"M26.555 9.68v.703h-6.61q.094 1.484.89 2.265.806.774 2.235.774.828 0 1.602-.203.781-.203 1.547-.61v1.36q-.774.328-1.586.5-.813.172-1.649.172-2.093 0-3.32-1.22-1.219-1.218-1.219-3.296 0-2.148 1.157-3.406 1.164-1.266 3.132-1.266 1.766 0 2.79 1.14 1.03 1.134 1.03 3.087zm-1.438-.422q-.015-1.18-.664-1.883-.64-.703-1.703-.703-1.203 0-1.93.68-.718.68-.828 1.914z\" /></g><g transform=\"translate(200, 375) scale(0.75, 0.75)\" fill=\"#e5e5e5\" stroke=\"#e5e5e5\"><path d=\"M26.555 9.68v.703h-6.61q.094 1.484.89 2.265.806.774 2.235.774.828 0 1.602-.203.781-.203 1.547-.61v1.36q-.774.328-1.586.5-.813.172-1.649.172-2.093 0-3.32-1.22-1.219-1.218-1.219-3.296 0-2.148 1.157-3.406 1.164-1.266 3.132-1.266 1.766 0 2.79 1.14 1.03 1.134 1.03 3.087zm-1.438-.422q-.015-1.18-.664-1.883-.64-.703-1.703-.703-1.203 0-1.93.68-.718.68-.828 1.914z\" /></g><g transform=\"translate(245, 0) scale(0.75, 0.75)\" fill=\"#e5e5e5\" stroke=\"#e5e5e5\"><path d=\"M25.285 2.258v1.195H23.91q-.773 0-1.078.313-.297.312-.297 1.125v.773h2.367v1.117h-2.367v7.633H21.09V6.781h-1.375V5.664h1.375v-.61q0-1.46.68-2.124.68-.672 2.156-.672z\" /></g><g transform=\"translate(245, 375) scale(0.75, 0.75)\" fill=\"#e5e5e5\" stroke=\"#e5e5e5\"><path d=\"M25.285 2.258v1.195H23.91q-.773 0-1.078.313-.297.312-.297 1.125v.773h2.367v1.117h-2.367v7.633H21.09V6.781h-1.375V5.664h1.375v-.61q0-1.46.68-2.124.68-.672 2.156-.672z\" /></g><g transform=\"translate(290, 0) scale(0.75, 0.75)\" fill=\"#e5e5e5\" stroke=\"#e5e5e5\"><path d=\"M24.973 9.937q0-1.562-.649-2.421-.64-.86-1.804-.86-1.157 0-1.805.86-.64.859-.64 2.421 0 1.555.64 2.415.648.859 1.805.859 1.164 0 1.804-.86.649-.859.649-2.414zm1.437 3.391q0 2.234-.992 3.32-.992 1.094-3.04 1.094-.757 0-1.429-.117-.672-.11-1.304-.344v-1.398q.632.344 1.25.508.617.164 1.257.164 1.414 0 2.118-.743.703-.734.703-2.226v-.711q-.446.773-1.141 1.156-.695.383-1.664.383-1.61 0-2.594-1.227-.984-1.226-.984-3.25 0-2.03.984-3.257.985-1.227 2.594-1.227.969 0 1.664.383t1.14 1.156V5.664h1.438z\" /></g><g transform=\"translate(290, 375) scale(0.75, 0.75)\" fill=\"#e5e5e5\" stroke=\"#e5e5e5\"><path d=\"M24.973 9.937q0-1.562-.649-2.421-.64-.86-1.804-.86-1.157 0-1.805.86-.64.859-.64 2.421 0 1.555.64 2.415.648.859 1.805.859 1.164 0 1.804-.86.649-.859.649-2.414zm1.437 3.391q0 2.234-.992 3.32-.992 1.094-3.04 1.094-.757 0-1.429-.117-.672-.11-1.304-.344v-1.398q.632.344 1.25.508.617.164 1.257.164 1.414 0 2.118-.743.703-.734.703-2.226v-.711q-.446.773-1.141 1.156-.695.383-1.664.383-1.61 0-2.594-1.227-.984-1.226-.984-3.25 0-2.03.984-3.257.985-1.227 2.594-1.227.969 0 1.664.383t1.14 1.156V5.664h1.438z\" /></g><g transform=\"translate(335, 0) scale(0.75, 0.75)\" fill=\"#e5e5e5\" stroke=\"#e5e5e5\"><path d=\"M26.164 9.133v5.281h-1.437V9.18q0-1.243-.485-1.86-.484-.617-1.453-.617-1.164 0-1.836.742-.672.742-.672 2.024v4.945h-1.445V2.258h1.445v4.765q.516-.789 1.211-1.18.703-.39 1.617-.39 1.508 0 2.282.938.773.93.773 2.742z\" /></g><g transform=\"translate(335, 375) scale(0.75, 0.75)\" fill=\"#e5e5e5\" stroke=\"#e5e5e5\"><path d=\"M26.164 9.133v5.281h-1.437V9.18q0-1.243-.485-1.86-.484-.617-1.453-.617-1.164 0-1.836.742-.672.742-.672 2.024v4.945h-1.445V2.258h1.445v4.765q.516-.789 1.211-1.18.703-.39 1.617-.39 1.508 0 2.282.938.773.93.773 2.742z\" /></g><g transform=\"translate(0, 335) scale(0.75, 0.75)\" fill=\"#e5e5e5\" stroke=\"#e5e5e5\"><path d=\"M6.754 26.996h2.578v-8.898l-2.805.562v-1.437l2.79-.563h1.578v10.336h2.578v1.328h-6.72z\" /></g><g transform=\"translate(375, 335) scale(0.75, 0.75)\" fill=\"#e5e5e5\" stroke=\"#e5e5e5\"><path d=\"M6.754 26.996h2.578v-8.898l-2.805.562v-1.437l2.79-.563h1.578v10.336h2.578v1.328h-6.72z\" /></g><g transform=\"translate(0, 290) scale(0.75, 0.75)\" fill=\"#e5e5e5\" stroke=\"#e5e5e5\"><path d=\"M8.195 26.996h5.508v1.328H6.297v-1.328q.898-.93 2.445-2.492 1.555-1.57 1.953-2.024.758-.851 1.055-1.437.305-.594.305-1.164 0-.93-.657-1.516-.648-.586-1.695-.586-.742 0-1.57.258-.82.258-1.758.781v-1.593q.953-.383 1.781-.578.828-.196 1.516-.196 1.812 0 2.89.906 1.079.907 1.079 2.422 0 .72-.274 1.368-.265.64-.976 1.515-.196.227-1.243 1.313-1.046 1.078-2.953 3.023z\" /></g><g transform=\"translate(375, 290) scale(0.75, 0.75)\" fill=\"#e5e5e5\" stroke=\"#e5e5e5\"><path d=\"M8.195 26.996h5.508v1.328H6.297v-1.328q.898-.93 2.445-2.492 1.555-1.57 1.953-2.024.758-.851 1.055-1.437.305-.594.305-1.164 0-.93-.657-1.516-.648-.586-1.695-.586-.742 0-1.57.258-.82.258-1.758.781v-1.593q.953-.383 1.781-.578.828-.196 1.516-.196 1.812 0 2.89.906 1.079.907 1.079 2.422 0 .72-.274 1.368-.265.64-.976 1.515-.196.227-1.243 1.313-1.046 1.078-2.953 3.023z\" /></g><g transform=\"translate(0, 245) scale(0.75, 0.75)\" fill=\"#e5e5e5\" stroke=\"#e5e5e5\"><path d=\"M11.434 22.035q1.132.242 1.765 1.008.64.766.64 1.89 0 1.727-1.187 2.672-1.187.946-3.375.946-.734 0-1.515-.149-.774-.14-1.602-.43V26.45q.656.383 1.438.578.78.196 1.632.196 1.485 0 2.258-.586.782-.586.782-1.703 0-1.032-.727-1.61-.719-.586-2.008-.586h-1.36v-1.297h1.423q1.164 0 1.78-.46.618-.47.618-1.344 0-.899-.64-1.375-.633-.485-1.82-.485-.65 0-1.391.141-.743.14-1.633.437V16.95q.898-.25 1.68-.375.788-.125 1.484-.125 1.797 0 2.844.82 1.046.813 1.046 2.204 0 .968-.554 1.64-.555.664-1.578.922z\" /></g><g transform=\"translate(375, 245) scale(0.75, 0.75)\" fill=\"#e5e5e5\" stroke=\"#e5e5e5\"><path d=\"M11.434 22.035q1.132.242 1.765 1.008.64.766.64 1.89 0 1.727-1.187 2.672-1.187.946-3.375.946-.734 0-1.515-.149-.774-.14-1.602-.43V26.45q.656.383 1.438.578.78.196 1.632.196 1.485 0 2.258-.586.782-.586.782-1.703 0-1.032-.727-1.61-.719-.586-2.008-.586h-1.36v-1.297h1.423q1.164 0 1.78-.46.618-.47.618-1.344 0-.899-.64-1.375-.633-.485-1.82-.485-.65 0-1.391.141-.743.14-1.633.437V16.95q.898-.25 1.68-.375.788-.125 1.484-.125 1.797 0 2.844.82 1.046.813 1.046 2.204 0 .968-.554 1.64-.555.664-1.578.922z\" /></g><g transform=\"translate(0, 200) scale(0.75, 0.75)\" fill=\"#e5e5e5\" stroke=\"#e5e5e5\"><path d=\"M11.016 18.035L7.03 24.262h3.985zm-.414-1.375h1.984v7.602h1.664v1.312h-1.664v2.75h-1.57v-2.75H5.75v-1.523z\" /></g><g transform=\"translate(375, 200) scale(0.75, 0.75)\" fill=\"#e5e5e5\" stroke=\"#e5e5e5\"><path d=\"M11.016 18.035L7.03 24.262h3.985zm-.414-1.375h1.984v7.602h1.664v1.312h-1.664v2.75h-1.57v-2.75H5.75v-1.523z\" /></g><g transform=\"translate(0, 155) scale(0.75, 0.75)\" fill=\"#e5e5e5\" stroke=\"#e5e5e5\"><path d=\"M6.719 16.66h6.195v1.328h-4.75v2.86q.344-.118.688-.172.343-.063.687-.063 1.953 0 3.094 1.07 1.14 1.07 1.14 2.899 0 1.883-1.171 2.93-1.172 1.039-3.305 1.039-.735 0-1.5-.125-.758-.125-1.57-.375v-1.586q.703.383 1.453.57.75.188 1.586.188 1.351 0 2.14-.711.79-.711.79-1.93 0-1.219-.79-1.93-.789-.71-2.14-.71-.633 0-1.266.14-.625.14-1.281.438z\" /></g><g transform=\"translate(375, 155) scale(0.75, 0.75)\" fill=\"#e5e5e5\" stroke=\"#e5e5e5\"><path d=\"M6.719 16.66h6.195v1.328h-4.75v2.86q.344-.118.688-.172.343-.063.687-.063 1.953 0 3.094 1.07 1.14 1.07 1.14 2.899 0 1.883-1.171 2.93-1.172 1.039-3.305 1.039-.735 0-1.5-.125-.758-.125-1.57-.375v-1.586q.703.383 1.453.57.75.188 1.586.188 1.351 0 2.14-.711.79-.711.79-1.93 0-1.219-.79-1.93-.789-.71-2.14-.71-.633 0-1.266.14-.625.14-1.281.438z\" /></g><g transform=\"translate(0, 110) scale(0.75, 0.75)\" fill=\"#e5e5e5\" stroke=\"#e5e5e5\"><path d=\"M10.137 21.863q-1.063 0-1.688.727-.617.726-.617 1.992 0 1.258.617 1.992.625.727 1.688.727 1.062 0 1.68-.727.624-.734.624-1.992 0-1.266-.625-1.992-.617-.727-1.68-.727zm3.133-4.945v1.437q-.594-.28-1.204-.43-.601-.148-1.195-.148-1.562 0-2.39 1.055-.82 1.055-.938 3.188.46-.68 1.156-1.04.696-.367 1.531-.367 1.758 0 2.774 1.07 1.023 1.063 1.023 2.899 0 1.797-1.062 2.883-1.063 1.086-2.828 1.086-2.024 0-3.094-1.547-1.07-1.555-1.07-4.5 0-2.766 1.312-4.406 1.313-1.649 3.524-1.649.593 0 1.195.117.61.118 1.266.352z\" /></g><g transform=\"translate(375, 110) scale(0.75, 0.75)\" fill=\"#e5e5e5\" stroke=\"#e5e5e5\"><path d=\"M10.137 21.863q-1.063 0-1.688.727-.617.726-.617 1.992 0 1.258.617 1.992.625.727 1.688.727 1.062 0 1.68-.727.624-.734.624-1.992 0-1.266-.625-1.992-.617-.727-1.68-.727zm3.133-4.945v1.437q-.594-.28-1.204-.43-.601-.148-1.195-.148-1.562 0-2.39 1.055-.82 1.055-.938 3.188.46-.68 1.156-1.04.696-.367 1.531-.367 1.758 0 2.774 1.07 1.023 1.063 1.023 2.899 0 1.797-1.062 2.883-1.063 1.086-2.828 1.086-2.024 0-3.094-1.547-1.07-1.555-1.07-4.5 0-2.766 1.312-4.406 1.313-1.649 3.524-1.649.593 0 1.195.117.61.118 1.266.352z\" /></g><g transform=\"translate(0, 65) scale(0.75, 0.75)\" fill=\"#e5e5e5\" stroke=\"#e5e5e5\"><path d=\"M6.25 16.66h7.5v.672L9.516 28.324H7.867l3.985-10.336H6.25z\" /></g><g transform=\"translate(375, 65) scale(0.75, 0.75)\" fill=\"#e5e5e5\" stroke=\"#e5e5e5\"><path d=\"M6.25 16.66h7.5v.672L9.516 28.324H7.867l3.985-10.336H6.25z\" /></g><g transform=\"translate(0, 20) scale(0.75, 0.75)\" fill=\"#e5e5e5\" stroke=\"#e5e5e5\"><path d=\"M10 22.785q-1.125 0-1.773.602-.641.601-.641 1.656t.64 1.656q.649.602 1.774.602t1.773-.602q.649-.61.649-1.656 0-1.055-.649-1.656-.64-.602-1.773-.602zm-1.578-.672q-1.016-.25-1.586-.945-.563-.695-.563-1.695 0-1.399.993-2.211 1-.813 2.734-.813 1.742 0 2.734.813.993.812.993 2.21 0 1-.57 1.696-.563.695-1.571.945 1.14.266 1.773 1.04.641.773.641 1.89 0 1.695-1.04 2.602-1.03.906-2.96.906t-2.969-.906Q6 26.738 6 25.043q0-1.117.64-1.89.641-.774 1.782-1.04zm-.578-2.492q0 .906.562 1.414.57.508 1.594.508 1.016 0 1.586-.508.578-.508.578-1.414 0-.906-.578-1.414-.57-.508-1.586-.508-1.023 0-1.594.508-.562.508-.562 1.414z\" /></g><g transform=\"translate(375, 20) scale(0.75, 0.75)\" fill=\"#e5e5e5\" stroke=\"#e5e5e5\"><path d=\"M10 22.785q-1.125 0-1.773.602-.641.601-.641 1.656t.64 1.656q.649.602 1.774.602t1.773-.602q.649-.61.649-1.656 0-1.055-.649-1.656-.64-.602-1.773-.602zm-1.578-.672q-1.016-.25-1.586-.945-.563-.695-.563-1.695 0-1.399.993-2.211 1-.813 2.734-.813 1.742 0 2.734.813.993.812.993 2.21 0 1-.57 1.696-.563.695-1.571.945 1.14.266 1.773 1.04.641.773.641 1.89 0 1.695-1.04 2.602-1.03.906-2.96.906t-2.969-.906Q6 26.738 6 25.043q0-1.117.64-1.89.641-.774 1.782-1.04zm-.578-2.492q0 .906.562 1.414.57.508 1.594.508 1.016 0 1.586-.508.578-.508.578-1.414 0-.906-.578-1.414-.57-.508-1.586-.508-1.023 0-1.594.508-.562.508-.562 1.414z\" /></g><rect x=\"15\" y=\"330\" width=\"45\" height=\"45\" class=\"square dark a1\" stroke=\"none\" fill=\"#d18b47\" /><rect x=\"60\" y=\"330\" width=\"45\" height=\"45\" class=\"square light b1\" stroke=\"none\" fill=\"#ffce9e\" /><rect x=\"105\" y=\"330\" width=\"45\" height=\"45\" class=\"square dark c1\" stroke=\"none\" fill=\"#d18b47\" /><rect x=\"150\" y=\"330\" width=\"45\" height=\"45\" class=\"square light d1\" stroke=\"none\" fill=\"#ffce9e\" /><rect x=\"195\" y=\"330\" width=\"45\" height=\"45\" class=\"square dark e1\" stroke=\"none\" fill=\"#d18b47\" /><rect x=\"240\" y=\"330\" width=\"45\" height=\"45\" class=\"square light f1\" stroke=\"none\" fill=\"#ffce9e\" /><rect x=\"285\" y=\"330\" width=\"45\" height=\"45\" class=\"square dark g1\" stroke=\"none\" fill=\"#d18b47\" /><rect x=\"330\" y=\"330\" width=\"45\" height=\"45\" class=\"square light h1\" stroke=\"none\" fill=\"#ffce9e\" /><rect x=\"15\" y=\"285\" width=\"45\" height=\"45\" class=\"square light a2\" stroke=\"none\" fill=\"#ffce9e\" /><rect x=\"60\" y=\"285\" width=\"45\" height=\"45\" class=\"square dark b2\" stroke=\"none\" fill=\"#d18b47\" /><rect x=\"105\" y=\"285\" width=\"45\" height=\"45\" class=\"square light c2\" stroke=\"none\" fill=\"#ffce9e\" /><rect x=\"150\" y=\"285\" width=\"45\" height=\"45\" class=\"square dark d2\" stroke=\"none\" fill=\"#d18b47\" /><rect x=\"195\" y=\"285\" width=\"45\" height=\"45\" class=\"square light e2\" stroke=\"none\" fill=\"#ffce9e\" /><rect x=\"240\" y=\"285\" width=\"45\" height=\"45\" class=\"square dark f2\" stroke=\"none\" fill=\"#d18b47\" /><rect x=\"285\" y=\"285\" width=\"45\" height=\"45\" class=\"square light g2\" stroke=\"none\" fill=\"#ffce9e\" /><rect x=\"330\" y=\"285\" width=\"45\" height=\"45\" class=\"square dark h2\" stroke=\"none\" fill=\"#d18b47\" /><rect x=\"15\" y=\"240\" width=\"45\" height=\"45\" class=\"square dark a3\" stroke=\"none\" fill=\"#d18b47\" /><rect x=\"60\" y=\"240\" width=\"45\" height=\"45\" class=\"square light b3\" stroke=\"none\" fill=\"#ffce9e\" /><rect x=\"105\" y=\"240\" width=\"45\" height=\"45\" class=\"square dark c3\" stroke=\"none\" fill=\"#d18b47\" /><rect x=\"150\" y=\"240\" width=\"45\" height=\"45\" class=\"square light d3\" stroke=\"none\" fill=\"#ffce9e\" /><rect x=\"195\" y=\"240\" width=\"45\" height=\"45\" class=\"square dark e3\" stroke=\"none\" fill=\"#d18b47\" /><rect x=\"240\" y=\"240\" width=\"45\" height=\"45\" class=\"square light f3\" stroke=\"none\" fill=\"#ffce9e\" /><rect x=\"285\" y=\"240\" width=\"45\" height=\"45\" class=\"square dark g3\" stroke=\"none\" fill=\"#d18b47\" /><rect x=\"330\" y=\"240\" width=\"45\" height=\"45\" class=\"square light h3\" stroke=\"none\" fill=\"#ffce9e\" /><rect x=\"15\" y=\"195\" width=\"45\" height=\"45\" class=\"square light a4\" stroke=\"none\" fill=\"#ffce9e\" /><rect x=\"60\" y=\"195\" width=\"45\" height=\"45\" class=\"square dark b4\" stroke=\"none\" fill=\"#d18b47\" /><rect x=\"105\" y=\"195\" width=\"45\" height=\"45\" class=\"square light c4\" stroke=\"none\" fill=\"#ffce9e\" /><rect x=\"150\" y=\"195\" width=\"45\" height=\"45\" class=\"square dark d4\" stroke=\"none\" fill=\"#d18b47\" /><rect x=\"195\" y=\"195\" width=\"45\" height=\"45\" class=\"square light e4\" stroke=\"none\" fill=\"#ffce9e\" /><rect x=\"240\" y=\"195\" width=\"45\" height=\"45\" class=\"square dark f4\" stroke=\"none\" fill=\"#d18b47\" /><rect x=\"285\" y=\"195\" width=\"45\" height=\"45\" class=\"square light g4\" stroke=\"none\" fill=\"#ffce9e\" /><rect x=\"330\" y=\"195\" width=\"45\" height=\"45\" class=\"square dark h4\" stroke=\"none\" fill=\"#d18b47\" /><rect x=\"15\" y=\"150\" width=\"45\" height=\"45\" class=\"square dark a5\" stroke=\"none\" fill=\"#d18b47\" /><rect x=\"60\" y=\"150\" width=\"45\" height=\"45\" class=\"square light b5\" stroke=\"none\" fill=\"#ffce9e\" /><rect x=\"105\" y=\"150\" width=\"45\" height=\"45\" class=\"square dark c5\" stroke=\"none\" fill=\"#d18b47\" /><rect x=\"150\" y=\"150\" width=\"45\" height=\"45\" class=\"square light d5\" stroke=\"none\" fill=\"#ffce9e\" /><rect x=\"195\" y=\"150\" width=\"45\" height=\"45\" class=\"square dark e5\" stroke=\"none\" fill=\"#d18b47\" /><rect x=\"240\" y=\"150\" width=\"45\" height=\"45\" class=\"square light f5\" stroke=\"none\" fill=\"#ffce9e\" /><rect x=\"285\" y=\"150\" width=\"45\" height=\"45\" class=\"square dark g5\" stroke=\"none\" fill=\"#d18b47\" /><rect x=\"330\" y=\"150\" width=\"45\" height=\"45\" class=\"square light h5\" stroke=\"none\" fill=\"#ffce9e\" /><rect x=\"15\" y=\"105\" width=\"45\" height=\"45\" class=\"square light a6\" stroke=\"none\" fill=\"#ffce9e\" /><rect x=\"60\" y=\"105\" width=\"45\" height=\"45\" class=\"square dark b6\" stroke=\"none\" fill=\"#d18b47\" /><rect x=\"105\" y=\"105\" width=\"45\" height=\"45\" class=\"square light c6\" stroke=\"none\" fill=\"#ffce9e\" /><rect x=\"150\" y=\"105\" width=\"45\" height=\"45\" class=\"square dark d6\" stroke=\"none\" fill=\"#d18b47\" /><rect x=\"195\" y=\"105\" width=\"45\" height=\"45\" class=\"square light e6\" stroke=\"none\" fill=\"#ffce9e\" /><rect x=\"240\" y=\"105\" width=\"45\" height=\"45\" class=\"square dark f6\" stroke=\"none\" fill=\"#d18b47\" /><rect x=\"285\" y=\"105\" width=\"45\" height=\"45\" class=\"square light g6\" stroke=\"none\" fill=\"#ffce9e\" /><rect x=\"330\" y=\"105\" width=\"45\" height=\"45\" class=\"square dark h6\" stroke=\"none\" fill=\"#d18b47\" /><rect x=\"15\" y=\"60\" width=\"45\" height=\"45\" class=\"square dark a7\" stroke=\"none\" fill=\"#d18b47\" /><rect x=\"60\" y=\"60\" width=\"45\" height=\"45\" class=\"square light b7\" stroke=\"none\" fill=\"#ffce9e\" /><rect x=\"105\" y=\"60\" width=\"45\" height=\"45\" class=\"square dark c7\" stroke=\"none\" fill=\"#d18b47\" /><rect x=\"150\" y=\"60\" width=\"45\" height=\"45\" class=\"square light d7\" stroke=\"none\" fill=\"#ffce9e\" /><rect x=\"195\" y=\"60\" width=\"45\" height=\"45\" class=\"square dark e7\" stroke=\"none\" fill=\"#d18b47\" /><rect x=\"240\" y=\"60\" width=\"45\" height=\"45\" class=\"square light f7\" stroke=\"none\" fill=\"#ffce9e\" /><rect x=\"285\" y=\"60\" width=\"45\" height=\"45\" class=\"square dark g7\" stroke=\"none\" fill=\"#d18b47\" /><rect x=\"330\" y=\"60\" width=\"45\" height=\"45\" class=\"square light h7\" stroke=\"none\" fill=\"#ffce9e\" /><rect x=\"15\" y=\"15\" width=\"45\" height=\"45\" class=\"square light a8\" stroke=\"none\" fill=\"#ffce9e\" /><rect x=\"60\" y=\"15\" width=\"45\" height=\"45\" class=\"square dark b8\" stroke=\"none\" fill=\"#d18b47\" /><rect x=\"105\" y=\"15\" width=\"45\" height=\"45\" class=\"square light c8\" stroke=\"none\" fill=\"#ffce9e\" /><rect x=\"150\" y=\"15\" width=\"45\" height=\"45\" class=\"square dark d8\" stroke=\"none\" fill=\"#d18b47\" /><rect x=\"195\" y=\"15\" width=\"45\" height=\"45\" class=\"square light e8\" stroke=\"none\" fill=\"#ffce9e\" /><rect x=\"240\" y=\"15\" width=\"45\" height=\"45\" class=\"square dark f8\" stroke=\"none\" fill=\"#d18b47\" /><rect x=\"285\" y=\"15\" width=\"45\" height=\"45\" class=\"square light g8\" stroke=\"none\" fill=\"#ffce9e\" /><rect x=\"330\" y=\"15\" width=\"45\" height=\"45\" class=\"square dark h8\" stroke=\"none\" fill=\"#d18b47\" /><use href=\"#white-knight\" xlink:href=\"#white-knight\" transform=\"translate(60, 330)\" /><use href=\"#white-knight\" xlink:href=\"#white-knight\" transform=\"translate(195, 330)\" /><use href=\"#white-bishop\" xlink:href=\"#white-bishop\" transform=\"translate(240, 330)\" /><use href=\"#white-rook\" xlink:href=\"#white-rook\" transform=\"translate(330, 330)\" /><use href=\"#black-bishop\" xlink:href=\"#black-bishop\" transform=\"translate(150, 285)\" /><use href=\"#white-queen\" xlink:href=\"#white-queen\" transform=\"translate(285, 285)\" /><use href=\"#white-pawn\" xlink:href=\"#white-pawn\" transform=\"translate(330, 285)\" /><use href=\"#white-pawn\" xlink:href=\"#white-pawn\" transform=\"translate(105, 195)\" /><use href=\"#black-pawn\" xlink:href=\"#black-pawn\" transform=\"translate(150, 150)\" /><use href=\"#white-pawn\" xlink:href=\"#white-pawn\" transform=\"translate(330, 150)\" /><use href=\"#white-pawn\" xlink:href=\"#white-pawn\" transform=\"translate(15, 105)\" /><use href=\"#black-pawn\" xlink:href=\"#black-pawn\" transform=\"translate(60, 105)\" /><use href=\"#black-pawn\" xlink:href=\"#black-pawn\" transform=\"translate(105, 105)\" /><use href=\"#black-pawn\" xlink:href=\"#black-pawn\" transform=\"translate(195, 105)\" /><use href=\"#black-pawn\" xlink:href=\"#black-pawn\" transform=\"translate(240, 105)\" /><use href=\"#black-knight\" xlink:href=\"#black-knight\" transform=\"translate(150, 60)\" /><use href=\"#white-rook\" xlink:href=\"#white-rook\" transform=\"translate(15, 15)\" /><use href=\"#black-rook\" xlink:href=\"#black-rook\" transform=\"translate(60, 15)\" /><use href=\"#black-knight\" xlink:href=\"#black-knight\" transform=\"translate(150, 15)\" /><use href=\"#black-king\" xlink:href=\"#black-king\" transform=\"translate(195, 15)\" /><use href=\"#white-bishop\" xlink:href=\"#white-bishop\" transform=\"translate(240, 15)\" /></svg>"
      ],
      "text/plain": [
       "Board('Rr1nkB2/3n4/Ppp1pp2/3p3P/2P5/8/3b2QP/1N2NB1R w - - 0 32')"
      ]
     },
     "execution_count": 240,
     "metadata": {},
     "output_type": "execute_result"
    }
   ],
   "source": [
    "board = chess.Board(an_game4[-1])\n",
    "board"
   ]
  },
  {
   "cell_type": "code",
   "execution_count": 191,
   "metadata": {},
   "outputs": [],
   "source": [
    "def pieces_sacrificed(final_pos):\n",
    "\n",
    "    black_bishop_count = 0\n",
    "    black_knight_count = 0\n",
    "    black_rook_count = 0\n",
    "    black_queen_count = 0\n",
    "    black_king_count = 0\n",
    "    black_pawn_count = 0\n",
    "    black_sacrificed = 0\n",
    "\n",
    "    white_bishop_count = 0\n",
    "    white_knight_count = 0\n",
    "    white_rook_count = 0\n",
    "    white_queen_count = 0\n",
    "    white_king_count = 0\n",
    "    white_pawn_count = 0\n",
    "    white_sacrificed = 0\n",
    "\n",
    "    for piece in final_pos:\n",
    "        if piece == 'b':\n",
    "            black_bishop_count += 1\n",
    "        if piece == 'n':\n",
    "            black_knight_count +=1\n",
    "        if piece == 'r':\n",
    "            black_rook_count += 1\n",
    "        if piece == 'q':\n",
    "            black_queen_count +=1\n",
    "        if piece == 'k':\n",
    "            black_king_count += 1\n",
    "        if piece == 'p':\n",
    "            black_pawn_count += 1\n",
    "\n",
    "\n",
    "        if piece == 'B':\n",
    "            white_bishop_count += 1\n",
    "        if piece == 'N':\n",
    "            white_knight_count +=1\n",
    "        if piece == 'R':\n",
    "            white_rook_count += 1\n",
    "        if piece == 'Q':\n",
    "            white_queen_count +=1\n",
    "        if piece == 'K':\n",
    "            white_king_count += 1\n",
    "        if piece == 'P':\n",
    "            white_pawn_count += 1\n",
    "\n",
    "    if black_bishop_count == 1:\n",
    "        black_sacrificed += 1\n",
    "    if black_bishop_count == 0:\n",
    "        black_sacrificed += 2\n",
    "    if black_knight_count == 1:\n",
    "        black_sacrificed += 1\n",
    "    if black_knight_count == 0:\n",
    "        black_sacrificed += 2\n",
    "    if black_rook_count == 1:\n",
    "        black_sacrificed += 1\n",
    "    if black_rook_count == 0:\n",
    "        black_sacrificed += 2\n",
    "    if black_queen_count == 0:\n",
    "        black_sacrificed += 1\n",
    "    if black_king_count == 0:\n",
    "        black_sacrificed +=1\n",
    "    \n",
    "    if black_pawn_count == 7:\n",
    "        black_sacrificed += 1\n",
    "    if black_pawn_count == 6:\n",
    "        black_sacrificed += 2\n",
    "    if black_pawn_count == 5:\n",
    "        black_sacrificed += 3\n",
    "    if black_pawn_count == 4:\n",
    "        black_sacrificed += 4\n",
    "    if black_pawn_count == 3:\n",
    "        black_sacrificed += 5\n",
    "    if black_pawn_count == 2:\n",
    "        black_sacrificed += 6\n",
    "    if black_pawn_count == 1:\n",
    "        black_sacrificed += 7\n",
    "    if black_pawn_count == 0:\n",
    "        black_sacrificed += 8\n",
    "        \n",
    "    if white_bishop_count == 1:\n",
    "        white_sacrificed += 1\n",
    "    if white_bishop_count == 0:\n",
    "        white_sacrificed += 2\n",
    "    if white_knight_count == 1:\n",
    "        white_sacrificed += 1\n",
    "    if white_knight_count == 0:\n",
    "        white_sacrificed += 2\n",
    "    if white_rook_count == 1:\n",
    "        white_sacrificed += 1\n",
    "    if white_rook_count == 0:\n",
    "        white_sacrificed += 2\n",
    "    if white_queen_count == 0:\n",
    "        white_sacrificed += 1\n",
    "    if white_king_count == 0:\n",
    "        white_sacrificed +=1\n",
    "    \n",
    "    if white_pawn_count == 7:\n",
    "        white_sacrificed += 1\n",
    "    if white_pawn_count == 6:\n",
    "        white_sacrificed += 2\n",
    "    if white_pawn_count == 5:\n",
    "        white_sacrificed += 3\n",
    "    if white_pawn_count == 4:\n",
    "        white_sacrificed += 4\n",
    "    if white_pawn_count == 3:\n",
    "        white_sacrificed += 5\n",
    "    if white_pawn_count == 2:\n",
    "        white_sacrificed += 6\n",
    "    if white_pawn_count == 1:\n",
    "        white_sacrificed += 7\n",
    "    if white_pawn_count == 0:\n",
    "        white_sacrificed += 8\n",
    "    total_sac = white_sacrificed + black_sacrificed\n",
    "    return white_sacrificed, black_sacrificed, total_sac"
   ]
  },
  {
   "cell_type": "code",
   "execution_count": 198,
   "metadata": {},
   "outputs": [],
   "source": [
    "ap_w_sac1, ap_b_sac1, ap_sac1 = pieces_sacrificed(ap_game1[-1])\n",
    "ap_w_sac2, ap_b_sac2, ap_sac2 = pieces_sacrificed(ap_game2[-1])\n",
    "ap_w_sac3, ap_b_sac3, ap_sac3 = pieces_sacrificed(ap_game3[-1])\n",
    "ap_w_sac4, ap_b_sac4, ap_sac4 = pieces_sacrificed(ap_game4[-1])\n",
    "ap_w_sac5, ap_b_sac5, ap_sac5 = pieces_sacrificed(ap_game5[-1])\n",
    "\n",
    "ck_w_sac1, ck_b_sac1, ck_sac1 = pieces_sacrificed(ck_game1[-1])\n",
    "ck_w_sac2, ck_b_sac2, ck_sac2 = pieces_sacrificed(ck_game2[-1])\n",
    "ck_w_sac3, ck_b_sac3, ck_sac3 = pieces_sacrificed(ck_game3[-1])\n",
    "ck_w_sac4, ck_b_sac4, ck_sac4 = pieces_sacrificed(ck_game4[-1])\n",
    "ck_w_sac5, ck_b_sac5, ck_sac5 = pieces_sacrificed(ck_game5[-1])\n",
    "\n",
    "nt_w_sac1, nt_b_sac1, nt_sac1 =  pieces_sacrificed(nt_game1[-1])\n",
    "nt_w_sac2, nt_b_sac2, nt_sac2 =  pieces_sacrificed(nt_game2[-1])\n",
    "nt_w_sac3, nt_b_sac3, nt_sac3 =  pieces_sacrificed(nt_game3[-1])\n",
    "nt_w_sac4, nt_b_sac4, nt_sac4 =  pieces_sacrificed(nt_game4[-1])\n",
    "nt_w_sac5, nt_b_sac5, nt_sac5 =  pieces_sacrificed(nt_game5[-1])\n",
    "\n",
    "ac_w_sac1, ac_b_sac1, ac_sac1 = pieces_sacrificed(ac_game1[-1])\n",
    "ac_w_sac2, ac_b_sac2, ac_sac2 = pieces_sacrificed(ac_game2[-1])\n",
    "ac_w_sac3, ac_b_sac3, ac_sac3 = pieces_sacrificed(ac_game3[-1])\n",
    "ac_w_sac4, ac_b_sac4, ac_sac4 = pieces_sacrificed(ac_game4[-1])\n",
    "ac_w_sac5, ac_b_sac5, ac_sac5 = pieces_sacrificed(ac_game5[-1])\n",
    "\n",
    "kn_w_sac1, kn_b_sac1, kn_sac1 = pieces_sacrificed(kn_game1[-1])\n",
    "kn_w_sac2, kn_b_sac2, kn_sac2 = pieces_sacrificed(kn_game2[-1])\n",
    "kn_w_sac3, kn_b_sac3, kn_sac3 = pieces_sacrificed(kn_game3[-1])\n",
    "kn_w_sac4, kn_b_sac4, kn_sac4 = pieces_sacrificed(kn_game4[-1])\n",
    "kn_w_sac5, kn_b_sac5, kn_sac5 = pieces_sacrificed(kn_game5[-1])\n",
    "\n",
    "aa_w_sac1, aa_b_sac1, aa_sac1 = pieces_sacrificed(aa_game1[-1])\n",
    "aa_w_sac2, aa_b_sac2, aa_sac2 = pieces_sacrificed(aa_game2[-1])\n",
    "aa_w_sac3, aa_b_sac3, aa_sac3 = pieces_sacrificed(aa_game3[-1])\n",
    "aa_w_sac4, aa_b_sac4, aa_sac4 = pieces_sacrificed(aa_game4[-1])\n",
    "aa_w_sac5, aa_b_sac5, aa_sac5 = pieces_sacrificed(aa_game5[-1])\n",
    "\n",
    "an_w_sac1, an_b_sac1, an_sac1 = pieces_sacrificed(an_game1[-1])\n",
    "an_w_sac2, an_b_sac2, an_sac2 = pieces_sacrificed(an_game2[-1])\n",
    "an_w_sac3, an_b_sac3, an_sac3 = pieces_sacrificed(an_game3[-1])\n",
    "an_w_sac4, an_b_sac4, an_sac4 = pieces_sacrificed(an_game4[-1])\n",
    "an_w_sac5, an_b_sac5, an_sac5 = pieces_sacrificed(an_game5[-1])\n",
    "\n"
   ]
  },
  {
   "cell_type": "code",
   "execution_count": 243,
   "metadata": {},
   "outputs": [
    {
     "name": "stdout",
     "output_type": "stream",
     "text": [
      "3\n"
     ]
    }
   ],
   "source": [
    "print(kn_sac2)"
   ]
  },
  {
   "cell_type": "code",
   "execution_count": 244,
   "metadata": {},
   "outputs": [
    {
     "data": {
      "text/html": [
       "<div>\n",
       "<style scoped>\n",
       "    .dataframe tbody tr th:only-of-type {\n",
       "        vertical-align: middle;\n",
       "    }\n",
       "\n",
       "    .dataframe tbody tr th {\n",
       "        vertical-align: top;\n",
       "    }\n",
       "\n",
       "    .dataframe thead th {\n",
       "        text-align: right;\n",
       "    }\n",
       "</style>\n",
       "<table border=\"1\" class=\"dataframe\">\n",
       "  <thead>\n",
       "    <tr style=\"text-align: right;\">\n",
       "      <th></th>\n",
       "      <th>player</th>\n",
       "      <th>playing</th>\n",
       "      <th>moves</th>\n",
       "      <th>sac_player</th>\n",
       "      <th>sac_game</th>\n",
       "    </tr>\n",
       "  </thead>\n",
       "  <tbody>\n",
       "    <tr>\n",
       "      <th>0</th>\n",
       "      <td>Polgar</td>\n",
       "      <td>White</td>\n",
       "      <td>46</td>\n",
       "      <td>4</td>\n",
       "      <td>6</td>\n",
       "    </tr>\n",
       "    <tr>\n",
       "      <th>1</th>\n",
       "      <td>Polgar</td>\n",
       "      <td>White</td>\n",
       "      <td>33</td>\n",
       "      <td>2</td>\n",
       "      <td>6</td>\n",
       "    </tr>\n",
       "    <tr>\n",
       "      <th>2</th>\n",
       "      <td>Polgar</td>\n",
       "      <td>White</td>\n",
       "      <td>88</td>\n",
       "      <td>6</td>\n",
       "      <td>15</td>\n",
       "    </tr>\n",
       "    <tr>\n",
       "      <th>3</th>\n",
       "      <td>Polgar</td>\n",
       "      <td>White</td>\n",
       "      <td>62</td>\n",
       "      <td>8</td>\n",
       "      <td>14</td>\n",
       "    </tr>\n",
       "    <tr>\n",
       "      <th>4</th>\n",
       "      <td>Polgar</td>\n",
       "      <td>White</td>\n",
       "      <td>18</td>\n",
       "      <td>2</td>\n",
       "      <td>2</td>\n",
       "    </tr>\n",
       "    <tr>\n",
       "      <th>...</th>\n",
       "      <td>...</td>\n",
       "      <td>...</td>\n",
       "      <td>...</td>\n",
       "      <td>...</td>\n",
       "      <td>...</td>\n",
       "    </tr>\n",
       "    <tr>\n",
       "      <th>65</th>\n",
       "      <td>Nakamura</td>\n",
       "      <td>Black</td>\n",
       "      <td>36</td>\n",
       "      <td>2</td>\n",
       "      <td>6</td>\n",
       "    </tr>\n",
       "    <tr>\n",
       "      <th>66</th>\n",
       "      <td>Nakamura</td>\n",
       "      <td>Black</td>\n",
       "      <td>12</td>\n",
       "      <td>0</td>\n",
       "      <td>1</td>\n",
       "    </tr>\n",
       "    <tr>\n",
       "      <th>67</th>\n",
       "      <td>Nakamura</td>\n",
       "      <td>Black</td>\n",
       "      <td>48</td>\n",
       "      <td>3</td>\n",
       "      <td>7</td>\n",
       "    </tr>\n",
       "    <tr>\n",
       "      <th>68</th>\n",
       "      <td>Nakamura</td>\n",
       "      <td>Black</td>\n",
       "      <td>62</td>\n",
       "      <td>6</td>\n",
       "      <td>11</td>\n",
       "    </tr>\n",
       "    <tr>\n",
       "      <th>69</th>\n",
       "      <td>Nakamura</td>\n",
       "      <td>Black</td>\n",
       "      <td>69</td>\n",
       "      <td>3</td>\n",
       "      <td>9</td>\n",
       "    </tr>\n",
       "  </tbody>\n",
       "</table>\n",
       "<p>70 rows × 5 columns</p>\n",
       "</div>"
      ],
      "text/plain": [
       "      player playing  moves  sac_player  sac_game\n",
       "0     Polgar   White     46           4         6\n",
       "1     Polgar   White     33           2         6\n",
       "2     Polgar   White     88           6        15\n",
       "3     Polgar   White     62           8        14\n",
       "4     Polgar   White     18           2         2\n",
       "..       ...     ...    ...         ...       ...\n",
       "65  Nakamura   Black     36           2         6\n",
       "66  Nakamura   Black     12           0         1\n",
       "67  Nakamura   Black     48           3         7\n",
       "68  Nakamura   Black     62           6        11\n",
       "69  Nakamura   Black     69           3         9\n",
       "\n",
       "[70 rows x 5 columns]"
      ]
     },
     "execution_count": 244,
     "metadata": {},
     "output_type": "execute_result"
    }
   ],
   "source": [
    "data = {'player': ['Polgar', 'Polgar', 'Polgar', 'Polgar', 'Polgar', 'Anand', 'Anand', 'Anand', 'Anand', 'Anand', \n",
    "                   'Caruana','Caruana','Caruana','Caruana','Caruana', 'Kasparov','Kasparov','Kasparov','Kasparov',\n",
    "                    'Kasparov', 'Tal','Tal','Tal','Tal','Tal', 'Nakamura','Nakamura','Nakamura','Nakamura','Nakamura', \n",
    "                   'Alekhine','Alekhine','Alekhine','Alekhine','Alekhine','Carlsen','Carlsen','Carlsen','Carlsen',\n",
    "                    'Carlsen', 'Anand','Anand','Anand','Anand','Anand', 'Alekhine','Alekhine','Alekhine','Alekhine',\n",
    "                    'Alekhine', 'Kasparov','Kasparov','Kasparov','Kasparov','Kasparov','Nakamura','Nakamura','Nakamura',\n",
    "                    'Nakamura','Nakamura', 'Alekhine','Alekhine','Alekhine','Alekhine','Alekhine','Nakamura','Nakamura',\n",
    "                    'Nakamura','Nakamura','Nakamura'],\n",
    "        'playing': ['White','White','White','White','White', 'Black','Black','Black','Black','Black','White','White',\n",
    "                    'White','White','White','Black','Black','Black','Black','Black','White','White','White','White',\n",
    "                    'White', 'Black','Black','Black','Black','Black', 'White','White','White','White','White', \n",
    "                    'Black','Black','Black','Black','Black','White','White','White','White','White', 'Black',\n",
    "                    'Black','Black','Black','Black', 'White','White','White','White','White', 'Black','Black',\n",
    "                    'Black','Black','Black', 'White','White','White','White','White', 'Black','Black','Black',\n",
    "                    'Black','Black' ],\n",
    "        'moves': [len(ap_game1), len(ap_game2), len(ap_game3), len(ap_game4), len(ap_game5), len(ap_game1), \n",
    "                  len(ap_game2), len(ap_game3), len(ap_game4), len(ap_game5), len(ck_game1),len(ck_game2),len(ck_game3),\n",
    "                  len(ck_game4),len(ck_game5), len(ck_game1),len(ck_game2),len(ck_game3),len(ck_game4),len(ck_game5),\n",
    "                  len(nt_game1),len(nt_game2),len(nt_game3),len(nt_game4),len(nt_game5),len(nt_game1),len(nt_game2),\n",
    "                  len(nt_game3),len(nt_game4),len(nt_game5), len(ac_game1), len(ac_game2), len(ac_game3), \n",
    "                  len(ac_game4), len(ac_game5), len(ac_game1), len(ac_game2), len(ac_game3), len(ac_game4), len(ac_game5),\n",
    "                  len(aa_game1), len(aa_game2),len(aa_game3),len(aa_game4),len(aa_game5), len(aa_game1),len(aa_game2),\n",
    "                  len(aa_game3),len(aa_game4),len(aa_game5), len(kn_game1),len(kn_game2),len(kn_game3),len(kn_game4),\n",
    "                  len(kn_game5), len(kn_game1),len(kn_game2),len(kn_game3), len(kn_game4),len(kn_game5), len(an_game1),\n",
    "                  len(an_game2),len(an_game3),len(an_game4),len(an_game5), len(an_game1),len(an_game2),len(an_game3),\n",
    "                  len(an_game4),len(an_game5)],\n",
    "        'sac_player':[ap_w_sac1,ap_w_sac2,ap_w_sac3,ap_w_sac4,ap_w_sac5,ap_b_sac1, ap_b_sac2, ap_b_sac3, ap_b_sac4,\n",
    "                      ap_b_sac5, ck_w_sac1,ck_w_sac2,ck_w_sac3,ck_w_sac4,ck_w_sac5, ck_b_sac1,ck_b_sac2,ck_b_sac3,\n",
    "                      ck_b_sac4,ck_b_sac5,nt_w_sac1, nt_w_sac2,nt_w_sac3,nt_w_sac4,nt_w_sac5, nt_b_sac1,nt_b_sac2,\n",
    "                      nt_b_sac3,nt_b_sac4,nt_b_sac5,ac_w_sac1,ac_w_sac2,ac_w_sac3,ac_w_sac4,ac_w_sac5,ac_b_sac1, \n",
    "                      ac_b_sac2, ac_b_sac3, ac_b_sac4, ac_b_sac5, aa_w_sac1,aa_w_sac2,aa_w_sac3,aa_w_sac4,\n",
    "                      aa_w_sac5, aa_b_sac1, aa_b_sac2, aa_b_sac3, aa_b_sac4, aa_b_sac5,kn_w_sac1,kn_w_sac2,kn_w_sac3,\n",
    "                      kn_w_sac4,kn_w_sac5, kn_b_sac1, kn_b_sac2, kn_b_sac3, kn_b_sac4, kn_b_sac5, an_w_sac1,an_w_sac2,\n",
    "                      an_w_sac3,an_w_sac4, an_w_sac5, an_b_sac1,an_b_sac2,an_b_sac3,an_b_sac4,an_b_sac5],\n",
    "        'sac_game':[ap_sac1,ap_sac2,ap_sac3,ap_sac4,ap_sac5, ap_sac1,ap_sac2,ap_sac3,ap_sac4,ap_sac5,ck_sac1,ck_sac2,\n",
    "                    ck_sac3,ck_sac4,ck_sac5, ck_sac1,ck_sac2,ck_sac3,ck_sac4,ck_sac5, nt_sac1, nt_sac2,nt_sac3,nt_sac4,\n",
    "                    nt_sac5, nt_sac1,nt_sac2,nt_sac3,nt_sac4,nt_sac5,ac_sac1,ac_sac2,ac_sac3,ac_sac4,ac_sac5, ac_sac1,\n",
    "                    ac_sac2,ac_sac3,ac_sac4,ac_sac5,aa_sac1,aa_sac2,aa_sac3,aa_sac4,aa_sac5,aa_sac1,aa_sac2,aa_sac3,aa_sac4,\n",
    "                    aa_sac5,kn_sac1,kn_sac2,kn_sac3,kn_sac4,kn_sac5,kn_sac1,kn_sac2,kn_sac3,kn_sac4,kn_sac5,an_sac1,an_sac2,\n",
    "                    an_sac3,an_sac4,an_sac5, an_sac1,an_sac2,an_sac3,an_sac4,an_sac5]}\n",
    "\n",
    "df = pd.DataFrame(data)\n",
    "df.to_csv('models_game_data.csv', index=False)\n",
    "\n",
    "df\n",
    "\n"
   ]
  }
 ],
 "metadata": {
  "kernelspec": {
   "display_name": "Python 3",
   "language": "python",
   "name": "python3"
  },
  "language_info": {
   "codemirror_mode": {
    "name": "ipython",
    "version": 3
   },
   "file_extension": ".py",
   "mimetype": "text/x-python",
   "name": "python",
   "nbconvert_exporter": "python",
   "pygments_lexer": "ipython3",
   "version": "3.8.5"
  }
 },
 "nbformat": 4,
 "nbformat_minor": 4
}
