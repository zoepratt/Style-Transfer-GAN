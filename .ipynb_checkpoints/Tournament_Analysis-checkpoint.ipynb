{
 "cells": [
  {
   "cell_type": "code",
   "execution_count": 4,
   "metadata": {},
   "outputs": [],
   "source": [
    "import chess"
   ]
  },
  {
   "cell_type": "markdown",
   "metadata": {},
   "source": [
    "**Alekhine v. Polgar**"
   ]
  },
  {
   "cell_type": "code",
   "execution_count": 17,
   "metadata": {},
   "outputs": [],
   "source": [
    "ap_game1 = []\n",
    "with open(\"alekhine_v_polgar_game1.txt\", \"r\") as f:\n",
    "    for line in f:\n",
    "        ap_game1.append(str(line.strip()))"
   ]
  },
  {
   "cell_type": "code",
   "execution_count": 18,
   "metadata": {},
   "outputs": [],
   "source": [
    "ap_game2 = []\n",
    "with open(\"alekhine_v_polgar_game2.txt\", \"r\") as f:\n",
    "    for line in f:\n",
    "        ap_game2.append(str(line.strip()))"
   ]
  },
  {
   "cell_type": "markdown",
   "metadata": {},
   "source": [
    "**Caruana v. Kasparov**"
   ]
  },
  {
   "cell_type": "code",
   "execution_count": 24,
   "metadata": {},
   "outputs": [],
   "source": [
    "ck_game1 = []\n",
    "with open(\"caruana_v_kasparov_game1.txt\", \"r\") as f:\n",
    "    for line in f:\n",
    "        ck_game1.append(str(line.strip()))"
   ]
  },
  {
   "cell_type": "code",
   "execution_count": 25,
   "metadata": {},
   "outputs": [],
   "source": [
    "ck_game2 = []\n",
    "with open(\"caruana_v_kasparov_game2.txt\", \"r\") as f:\n",
    "    for line in f:\n",
    "        ck_game2.append(str(line.strip()))"
   ]
  }
 ],
 "metadata": {
  "kernelspec": {
   "display_name": "Python 3",
   "language": "python",
   "name": "python3"
  },
  "language_info": {
   "codemirror_mode": {
    "name": "ipython",
    "version": 3
   },
   "file_extension": ".py",
   "mimetype": "text/x-python",
   "name": "python",
   "nbconvert_exporter": "python",
   "pygments_lexer": "ipython3",
   "version": "3.8.5"
  }
 },
 "nbformat": 4,
 "nbformat_minor": 4
}
