{
 "cells": [
  {
   "cell_type": "code",
   "execution_count": null,
   "metadata": {},
   "outputs": [],
   "source": [
    "from model import Magikarp\n",
    "import numpy as np\n",
    "import tensorflow as tf\n",
    "\n",
    "config = {}\n",
    "config['batch_size'] = 64\n",
    "config['datafile'] = '../Data/training_data.hdf5'\n",
    "config['p_datafile'] = '../Data/tal_data.hdf5'\n",
    "config['full_boards_file'] = '../Data/full_boards.pkl'\n",
    "config['num_epochs'] = 10\n",
    "config['save_file'] = 'trained_model/trained_genadv.ckpt'\n",
    "\n",
    "with tf.Session() as sess:\n",
    "    magikarp = Magikarp(config, sess)\n",
    "    magikarp.train()"
   ]
  }
 ],
 "metadata": {
  "kernelspec": {
   "display_name": "Python 3",
   "language": "python",
   "name": "python3"
  },
  "language_info": {
   "codemirror_mode": {
    "name": "ipython",
    "version": 3
   },
   "file_extension": ".py",
   "mimetype": "text/x-python",
   "name": "python",
   "nbconvert_exporter": "python",
   "pygments_lexer": "ipython3",
   "version": "3.8.5"
  }
 },
 "nbformat": 4,
 "nbformat_minor": 4
}
